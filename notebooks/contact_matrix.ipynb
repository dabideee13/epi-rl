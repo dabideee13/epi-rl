{
 "cells": [
  {
   "cell_type": "code",
   "execution_count": 46,
   "metadata": {},
   "outputs": [],
   "source": [
    "import sys\n",
    "sys.path.insert(0, '..')\n",
    "\n",
    "import os\n",
    "from pathlib import Path\n",
    "from typing import Dict, List, Union\n",
    "\n",
    "import numpy as np\n",
    "\n",
    "from epcontrol.compartments.contacts.Eames2012 import read_contact_matrix, make_reciprocal"
   ]
  },
  {
   "cell_type": "code",
   "execution_count": 12,
   "metadata": {},
   "outputs": [],
   "source": [
    "cm_path = Path('/home/ubuntu/Temporary/epi-rl/data/contacts')"
   ]
  },
  {
   "cell_type": "code",
   "execution_count": 49,
   "metadata": {},
   "outputs": [],
   "source": [
    "class CMGetter:\n",
    "\n",
    "    def __init__(self, cm_path: Union[Path, str]) -> None:\n",
    "        self._cm_path = cm_path\n",
    "        self._files = self._get_files()\n",
    "        self._names = self._get_names()\n",
    "        self._contact_matrices = self._get_contact_matrices()\n",
    "\n",
    "    @property\n",
    "    def contact_matrices(self) -> Dict[str, np.ndarray]:\n",
    "        return self._contact_matrices\n",
    "\n",
    "    def _get_files(self) -> List[str]:\n",
    "        return [file for file in os.listdir(self._cm_path) if '.csv' in file]\n",
    "\n",
    "    def _get_names(self) -> List[str]:\n",
    "        return [Path(file).stem for file in self._files]\n",
    "\n",
    "    def _get_contact_matrices(self) -> Dict[str, np.ndarray]:\n",
    "        return {\n",
    "            name: read_contact_matrix(self._cm_path / file) \n",
    "            for name, file in zip(self._names, self._files)\n",
    "        }"
   ]
  },
  {
   "cell_type": "code",
   "execution_count": 51,
   "metadata": {},
   "outputs": [
    {
     "data": {
      "text/plain": [
       "{'conversational_school': array([[ 4.0196,  1.8137,  7.8039,  0.1373],\n",
       "        [ 1.4139, 27.6762, 11.1639,  0.9795],\n",
       "        [ 0.8472,  3.8457, 14.7942,  1.0078],\n",
       "        [ 0.1048,  0.2857,  6.5673,  2.098 ]], dtype=float32),\n",
       " 'conversational_no_school': array([[ 6.5227,  1.75  ,  7.0227,  0.0909],\n",
       "        [ 0.9783, 11.5761, 11.7174,  0.5761],\n",
       "        [ 1.3087,  2.2781, 14.968 ,  1.0525],\n",
       "        [ 0.1442,  0.4279,  5.6512,  1.4326]], dtype=float32),\n",
       " 'test': array([[ 4.0196,  1.8137,  7.8039,  0.1373],\n",
       "        [ 1.4139, 27.6762, 11.1639,  0.9795],\n",
       "        [ 0.8472,  3.8457, 14.7942,  1.0078],\n",
       "        [ 0.1048,  0.2857,  6.5673,  2.098 ]], dtype=float32)}"
      ]
     },
     "execution_count": 51,
     "metadata": {},
     "output_type": "execute_result"
    }
   ],
   "source": [
    "cm = CMGetter(cm_path)\n",
    "cm.contact_matrices"
   ]
  },
  {
   "cell_type": "code",
   "execution_count": null,
   "metadata": {},
   "outputs": [],
   "source": []
  }
 ],
 "metadata": {
  "interpreter": {
   "hash": "5c402f8e9b685819b58fc5f2f3750c89c8e9c27f31e73aef002c536e0a492677"
  },
  "kernelspec": {
   "display_name": "Python 3.7.9 64-bit ('epi-rl': conda)",
   "name": "python3"
  },
  "language_info": {
   "codemirror_mode": {
    "name": "ipython",
    "version": 3
   },
   "file_extension": ".py",
   "mimetype": "text/x-python",
   "name": "python",
   "nbconvert_exporter": "python",
   "pygments_lexer": "ipython3",
   "version": "3.7.9"
  }
 },
 "nbformat": 4,
 "nbformat_minor": 2
}
