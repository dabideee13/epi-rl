{
 "cells": [
  {
   "cell_type": "code",
   "execution_count": 299,
   "metadata": {},
   "outputs": [],
   "source": [
    "import sys\n",
    "sys.path.insert(0, '../scripts')\n",
    "\n",
    "import inspect\n",
    "from typing import List, Union, Optional, Tuple, Any, Dict\n",
    "\n",
    "# from contact_matrix import ContactMatrix"
   ]
  },
  {
   "cell_type": "code",
   "execution_count": 320,
   "metadata": {},
   "outputs": [],
   "source": [
    "\"\"\"Generate contact matrices for different actions (quarantine levels).\"\"\"\n",
    "\n",
    "from pathlib import Path\n",
    "from typing import List\n",
    "\n",
    "import pandas as pd\n",
    "\n",
    "\n",
    "class ContactMatrix:\n",
    "    \"\"\"Contact matrix generator\"\"\"\n",
    "\n",
    "    def __init__(self, **kwargs: Any) -> None:\n",
    "        self._filename = \"Social_contact_matrices_Philippines.xlsx\"\n",
    "        self._school = self._read_data(\"School\")\n",
    "        self._work = self._read_data(\"Work\")\n",
    "        self._other_location = self._read_data(\"other_location\")\n",
    "        self._home = self._read_data(\"Home\")\n",
    "        self._cm = self._get_contact(**kwargs)\n",
    "\n",
    "    def _get_path(self, root: Path) -> Path:\n",
    "        return Path.joinpath(root, 'data/contacts', self._filename)\n",
    "\n",
    "    def _read_data(self, sheet_name: str = 'All_location') -> pd.DataFrame:\n",
    "\n",
    "        def reader(path: Path) -> pd.DataFrame:\n",
    "            return pd.read_excel(\n",
    "                str(path),\n",
    "                sheet_name,\n",
    "                index_col=\"Ages\"\n",
    "            )\n",
    "\n",
    "        try:\n",
    "            return reader(self._get_path(Path.cwd()))\n",
    "        except FileNotFoundError:\n",
    "            return reader(self._get_path(Path.cwd().parent))\n",
    "\n",
    "    def _return_zero(self, df: pd.DataFrame, mode: List[str]) -> pd.DataFrame:\n",
    "        _df = df.copy(deep=True)\n",
    "        _df[mode] = 0\n",
    "        _df.loc[mode] = 0\n",
    "        return _df\n",
    "\n",
    "    def _compute_contact(self, df: pd.DataFrame, prop: float, sd: float) -> pd.DataFrame:\n",
    "        return (prop - (prop * sd)) * df\n",
    "\n",
    "    def _get_contact(\n",
    "        self,\n",
    "        home: bool = True,\n",
    "        prop_work: float = 1.0,\n",
    "        prop_school: float = 1.0,\n",
    "        prop_other: float = 1.0,\n",
    "        sd_work: float = 0.0,\n",
    "        sd_school: float = 0.0,\n",
    "        sd_other: float = 0.0,\n",
    "        home_quarantine: list = [],\n",
    "        not_allowed_work: list = [],\n",
    "        not_allowed_other: list = [],\n",
    "        not_allowed_school: list = []\n",
    "    ):\n",
    "\n",
    "        if home_quarantine:\n",
    "            self._school, self._work, self._other_location = (\n",
    "                self._return_zero(self._school, home_quarantine),\n",
    "                self._return_zero(self._work, home_quarantine),\n",
    "                self._return_zero(self._other_location, home_quarantine)\n",
    "            )\n",
    "\n",
    "        if not_allowed_work:\n",
    "            self._work = self._return_zero(self._work, not_allowed_work)\n",
    "\n",
    "        if not_allowed_other:\n",
    "            self._other_location = self._return_zero(self._other_location, not_allowed_other)\n",
    "\n",
    "        if not_allowed_school:\n",
    "            self._school = self._return_zero(self._school, not_allowed_school)\n",
    "\n",
    "        contact_school, contact_work, contact_other = (\n",
    "            self._compute_contact(self._school, prop_school, sd_school),\n",
    "            self._compute_contact(self._work, prop_work, sd_work),\n",
    "            self._compute_contact(self._other_location, prop_other, sd_other)\n",
    "        )\n",
    "\n",
    "        contact = contact_school + contact_work + contact_other\n",
    "\n",
    "        if home:\n",
    "            contact += self._home\n",
    "\n",
    "        return contact\n",
    "    \n",
    "    @property\n",
    "    def cm(self) -> pd.DataFrame:\n",
    "        return self._cm\n",
    "    \n",
    "    def mean_cm(self, first_group: List[str], second_group: List[str]) -> float:\n",
    "        return self.cm[first_group].loc[second_group].mean().mean()\n",
    "    \n",
    "    def _get_varname(self, variable: Any) -> str:\n",
    "        local_variables = inspect.currentframe().f_back.f_locals.items()\n",
    "        return [name for name, value in local_variables if value is variable][0]\n",
    "    \n",
    "    def get_cm(self, groups: Dict[str, List[str]]) -> Dict[str, float]:\n",
    "        pass\n",
    "    \n",
    "\n",
    "    def get_cm(self, groups: List[List[float]]) -> Dict[str, float]:\n",
    "        means = dict()\n",
    "        for group in groups:\n",
    "            means[f'{group}'] = self.mean_cm(group, group)\n",
    "        return means"
   ]
  },
  {
   "cell_type": "code",
   "execution_count": 318,
   "metadata": {},
   "outputs": [],
   "source": [
    "contact_matrix = ContactMatrix()"
   ]
  },
  {
   "cell_type": "code",
   "execution_count": 319,
   "metadata": {},
   "outputs": [
    {
     "data": {
      "text/plain": [
       "{\"['0-5']\": 2.8671833424000335,\n",
       " \"['20-25', '25-30', '30-35', '35-40', '40-45', '45-50', '50-55', '55-60', '60-65']\": 1.0568092213627953}"
      ]
     },
     "execution_count": 319,
     "metadata": {},
     "output_type": "execute_result"
    }
   ],
   "source": [
    "contact_matrix.get_cm([children, adults])"
   ]
  },
  {
   "cell_type": "code",
   "execution_count": 175,
   "metadata": {},
   "outputs": [],
   "source": [
    "class AgeGroup:\n",
    "    \n",
    "    def _increment(self, ages: str) -> str:\n",
    "        left, right = ages.split(sep='-')\n",
    "        new_left, new_right = int(left) + 5, int(right) + 5\n",
    "        return f'{new_left}-{new_right}'\n",
    "\n",
    "    def _form_group(self, first) -> str:\n",
    "        last = int(first) + 5\n",
    "        return f'{first}-{last}'\n",
    "\n",
    "    def ages(self, first, last) -> List[str]:\n",
    "\n",
    "        group = self._form_group(first)\n",
    "        last_index = group.split(sep='-')[1]\n",
    "        groups = [group]\n",
    "\n",
    "        while int(last_index) != last:\n",
    "            groups.append(self._increment(group))\n",
    "            group = self._increment(group)\n",
    "            last_index = group.split(sep='-')[1]\n",
    "        \n",
    "        return groups"
   ]
  },
  {
   "cell_type": "code",
   "execution_count": 182,
   "metadata": {},
   "outputs": [],
   "source": [
    "# Change this to dict\n",
    "\n",
    "cm = AgeGroup()\n",
    "children = cm.ages(0, 5)\n",
    "adolescents = cm.ages(5, 20)\n",
    "adults = cm.ages(20, 65)\n",
    "elderly = cm.ages(65, 80)"
   ]
  },
  {
   "cell_type": "code",
   "execution_count": null,
   "metadata": {},
   "outputs": [],
   "source": []
  }
 ],
 "metadata": {
  "interpreter": {
   "hash": "caf1c2fcf97217de91eafa76b907d50f9ea378f5ffbee7f571142d119bb6a771"
  },
  "kernelspec": {
   "display_name": "Python 3 (ipykernel)",
   "language": "python",
   "name": "python3"
  },
  "language_info": {
   "codemirror_mode": {
    "name": "ipython",
    "version": 3
   },
   "file_extension": ".py",
   "mimetype": "text/x-python",
   "name": "python",
   "nbconvert_exporter": "python",
   "pygments_lexer": "ipython3",
   "version": "3.9.7"
  }
 },
 "nbformat": 4,
 "nbformat_minor": 2
}
